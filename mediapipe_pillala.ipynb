{
 "cells": [
  {
   "cell_type": "markdown",
   "id": "ad56bfd7",
   "metadata": {},
   "source": [
    "References: https://github.com/googlesamples/mediapipe/blob/main/examples/pose_landmarker/python/%5BMediaPipe_Python_Tasks%5D_Pose_Landmarker.ipynb\n",
    "Used CHATGPT to understand and rectify codec errors."
   ]
  },
  {
   "cell_type": "code",
   "execution_count": 9,
   "id": "3031ce3e",
   "metadata": {},
   "outputs": [],
   "source": [
    "!pip install -q mediapipe==0.10.0"
   ]
  },
  {
   "cell_type": "code",
   "execution_count": 12,
   "id": "dc09915c",
   "metadata": {},
   "outputs": [],
   "source": [
    "import numpy as np\n",
    "import pandas as pd\n",
    "import cv2\n",
    "import mediapipe as mp"
   ]
  },
  {
   "cell_type": "code",
   "execution_count": 28,
   "id": "58aebb70",
   "metadata": {},
   "outputs": [],
   "source": [
    "# Setup\n",
    "mp_drawing = mp.solutions.drawing_utils\n",
    "mp_drawing_styles = mp.solutions.drawing_styles\n",
    "mp_pose = mp.solutions.pose \n",
    "pose = mp_pose.Pose(min_detection_confidence=0.5, min_tracking_confidence=0.5)"
   ]
  },
  {
   "cell_type": "code",
   "execution_count": 43,
   "id": "8b407a00",
   "metadata": {},
   "outputs": [
    {
     "name": "stdout",
     "output_type": "stream",
     "text": [
      "Frame Width: 1280, Frame Height: 634, FPS: 25\n",
      "End of video.\n"
     ]
    }
   ],
   "source": [
    "# initialize the video stream\n",
    "video_cap = cv2.VideoCapture(\"/Users/anirudhpillala/Downloads/HW13.mp4\")\n",
    "\n",
    "# grab the width, height, and fps of the frames in the video stream.\n",
    "frame_width = int(video_cap.get(3))\n",
    "frame_height = int(video_cap.get(4))\n",
    "fps = int(video_cap.get(5))\n",
    "\n",
    "#print the width, height and fps\n",
    "print(f\"Frame Width: {frame_width}, Frame Height: {frame_height}, FPS: {fps}\")\n",
    "\n",
    "# initialize the FourCC and a video writer object\n",
    "fourcc = cv2.VideoWriter_fourcc(*'avc1')\n",
    "output = cv2.VideoWriter('output_pose.mp4', fourcc, fps, (frame_width, frame_height))\n",
    "\n",
    "with mp_pose.Pose(\n",
    "    min_detection_confidence=0.5,\n",
    "    min_tracking_confidence=0.5) as pose:\n",
    "    \n",
    "    while True:\n",
    "        success, image = video_cap.read()\n",
    "\n",
    "        if not success:\n",
    "            print(\"End of video.\")\n",
    "            # If loading a video, use 'break' instead of 'continue'.\n",
    "            break\n",
    "\n",
    "        image.flags.writeable = False\n",
    "        image = cv2.cvtColor(image, cv2.COLOR_BGR2RGB)\n",
    "        results = pose.process(image)\n",
    "\n",
    "        # Draw the pose annotation on the image.\n",
    "        image.flags.writeable = True\n",
    "        image = cv2.cvtColor(image, cv2.COLOR_RGB2BGR)\n",
    "        mp_drawing.draw_landmarks(image,results.pose_landmarks,mp_pose.POSE_CONNECTIONS)\n",
    "\n",
    "\n",
    "        # write the frame to the output file\n",
    "        output.write(image)\n",
    "        if cv2.waitKey(20) == ord('q'):\n",
    "            break\n",
    "video_cap.release()\n",
    "cv2.destroyAllWindows()"
   ]
  },
  {
   "cell_type": "code",
   "execution_count": null,
   "id": "9f3f9e6f",
   "metadata": {},
   "outputs": [],
   "source": []
  },
  {
   "cell_type": "code",
   "execution_count": null,
   "id": "7e2eacb2",
   "metadata": {},
   "outputs": [],
   "source": []
  },
  {
   "cell_type": "code",
   "execution_count": null,
   "id": "d86b54a3",
   "metadata": {},
   "outputs": [],
   "source": []
  }
 ],
 "metadata": {
  "kernelspec": {
   "display_name": "Python 3 (ipykernel)",
   "language": "python",
   "name": "python3"
  },
  "language_info": {
   "codemirror_mode": {
    "name": "ipython",
    "version": 3
   },
   "file_extension": ".py",
   "mimetype": "text/x-python",
   "name": "python",
   "nbconvert_exporter": "python",
   "pygments_lexer": "ipython3",
   "version": "3.11.4"
  }
 },
 "nbformat": 4,
 "nbformat_minor": 5
}
